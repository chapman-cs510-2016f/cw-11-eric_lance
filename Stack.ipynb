{
 "cells": [
  {
   "cell_type": "markdown",
   "metadata": {
    "collapsed": false
   },
   "source": [
    "# CW-11 Pointers in C:  Fun with Matrices & Linked Lists\n",
    "## README Item #3\n",
    "## Lance Clifner, Eric Freda\n",
    "CS-510\n",
    "<br>November 8, 2016"
   ]
  },
  {
   "cell_type": "markdown",
   "metadata": {},
   "source": [
    "# STACK typedef\n",
    "\n",
    "`struct stack\n",
    "{\n",
    "    SVALUE data;\n",
    "    struct stack *head;\n",
    "};\n",
    "typedef struct stack *STACK;\n",
    "`\n",
    "\n",
    "The typedef STACK is defined as a pointer to a `stack` structure.  This is so that when a variable of type STACK is declared, only enough memory is reserved for that variable to contain a pointer (4 or 8 bytes, depending on the compiler) instead of reserving memory to hold the entire actual structure.  Thus the STACK variable is a pointer to a `stack` structure, and not the structure itself.  Note that a key point here is that, to be useful, the `STACK` pointer needs point to an actual `stack` data structure.  So, somewhere along the line, a `stack` structure needs to be declared (such as a program stack or program heap variable) or allocated (via `malloc()`) before the STACK variable can be set to point to an actual `stack` structure in memory.\n",
    "\n",
    "This makes the code implementing the pop and push actions simpler to work with.  All reference to elements in the stack list are done with pointers rather than the actual structure memory.  Specifically, the link from the current stack element to the prior stack element is done via pointer reference to the prior link stored in the `head` pointer in the `stack` structure.  This allows us to make an arbitrarily long list of `stack` elements without having to copy memory or have allocated an arbitrarily large amount of contiguous memory.  The `head` pointer allows us to logically link the list, without having to worry about where any `stack` element is situated in program memory.\n",
    "\n",
    "The use of pointers also makes it faster to pass STACK variables to functions (rather than the entire structure--which can add significant overhead when a structure is large).\n",
    "\n",
    "A sample of a linked list in non-contiguous is logically shown in the following three tables, where each table represent one element in the list.\n",
    "<table>\n",
    "  <tr align=\"center\">\n",
    "    <th>stack element</th>\n",
    "    <th># 3</th> \n",
    "  </tr>\n",
    "  <tr align=\"right\">\n",
    "    <td>data</td>\n",
    "    <td>(some value)</td> \n",
    "  </tr>\n",
    "  <tr align=\"right\">\n",
    "    <td>head</td>\n",
    "    <td>points to stack # 2</td> \n",
    "  </tr>\n",
    "</table>\n",
    "\n",
    "Element # 3 is the tail end of the list, and it points back to Element # 2, which is located at some location in memory separated from Element # 3 (which is simulated by this text inbetween these two list Elements.\n",
    "\n",
    "<table>\n",
    "  <tr align=\"center\">\n",
    "    <th>stack element</th>\n",
    "    <th># 2</th> \n",
    "  </tr>\n",
    "  <tr align=\"right\">\n",
    "    <td>data</td>\n",
    "    <td>(some value)</td> \n",
    "  </tr>\n",
    "  <tr align=\"right\">\n",
    "    <td>head</td>\n",
    "    <td>points to stack # 1</td> \n",
    "  </tr>\n",
    "</table>\n",
    "\n",
    "Similary, Element # 2 points to Element # 1, which is similarly separated from Element # 2.\n",
    "\n",
    "<table>\n",
    "  <tr align=\"center\">\n",
    "    <th>stack element</th>\n",
    "    <th># 1</th> \n",
    "  </tr>\n",
    "  <tr align=\"right\">\n",
    "    <td>data</td>\n",
    "    <td>(some value)</td> \n",
    "  </tr>\n",
    "  <tr align=\"right\">\n",
    "    <td>head</td>\n",
    "    <td>points to NULL (this is the stack head)</td> \n",
    "  </tr>\n",
    "</table>\n",
    "\n",
    "Finally, we get to Element # 1, which is at the head end of the list.  Since it is the head end, there is nowhere else to go along the list, so Element # 1 points to NULL, logically terminating the list.\n"
   ]
  }
 ],
 "metadata": {
  "kernelspec": {
   "display_name": "Python 2 (SageMath)",
   "language": "python",
   "name": "python2"
  },
  "language_info": {
   "codemirror_mode": {
    "name": "ipython",
    "version": 2
   },
   "file_extension": ".py",
   "mimetype": "text/x-python",
   "name": "python",
   "nbconvert_exporter": "python",
   "pygments_lexer": "ipython2",
   "version": "2.7.10"
  }
 },
 "nbformat": 4,
 "nbformat_minor": 0
}
