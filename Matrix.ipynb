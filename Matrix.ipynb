{
 "cells": [
  {
   "cell_type": "markdown",
   "metadata": {
    "collapsed": false
   },
   "source": [
    "# Representing matrices in C\n",
    "\n",
    "This code defines a ```MATRIX``` type that functions similarly to the mathematical object of the same name. The type has three elements: two integers for the dimensions of the matrix (```rows``` and ```cols```) and a pointer (```*mat```) to an array of long doubles.\n",
    "\n",
    "The constructor ```new_matrix(rows, cols)``` creates a matrix object with the specified shape filled with zeros. This is done by using ```calloc``` to clear out the memory that ```*mat``` points to. If the memory cannot be allocated, an error message is displayed.\n",
    "\n",
    "The destructor, ```delete_matrix(mat)```, simply frees up the memory allocated to the array.\n",
    "\n",
    "The function ```mset(*m, row, col, value)``` sets the element at the specified position in the matrix to the specified value. This function uses a pass-by-reference method to modify the array in memory. To do this, we add the number of elements to the right of the first element to the pointer before dereferencing it.\n",
    "\n",
    "The function ```mget(*m, row, col)``` simply returns the value contained in the matrix m at the position ```(row,col)```. Pass-by-reference is again used. Though the syntax is a bit different, it is equivilant to the sort of thing being done in ```mset``` (except it is returning the value instead of modifying it).\n",
    "\n",
    "The function ```print_value(value)``` prints its argument. This function adds a layer of protection to prevent errors from appearing when the data type stored in the array is changed. By using a function like this, such changes only require changes to this one function instead of changing every instance where the value needs to be printed.\n",
    "\n",
    "The function ```print_matrix(*m)``` uses pass-by-reference to print the contents of the matrix. This is done two nested for loops and the ```print_value``` function.\n",
    "\n",
    "The function ```add_matrix(*m, *n)``` adds the two matrices ```m``` and ```n``` together. This is done with two nested for loops that go over the rows and columns. ```mget``` is used twice to get the values to be added together and ```mset``` assigns these values to a matrix ```ans``` that was created to be the output."
   ]
  },
  {
   "cell_type": "markdown",
   "metadata": {},
   "source": [
    "# \"row-major ordering\" vs. \"column-major ordering\"\n",
    "\n",
    "In C, two-dimensional arrays follow a \"row-major ordering\" convention. This means that the values within a row are stored in a continuous block of memory, while columns are split up. This is due to the fact that the array itself is essentially a one-dimensional structure in memory and the two-dimensional object must be cut into one-dimensional slices to be stored in memory. \"Column-major ordering\" slices the array along columns so that each column is a contiguous block of memory.\n",
    "\n",
    "If one wanted to force C to use column-major ordering, they could simply swap the labels for rows and columns (ie. use the transpose). The notion of which axis is the row and which is the column is not fundamental, so this will not change the behaviour of the function as long as the programmer is consistent."
   ]
  },
  {
   "cell_type": "code",
   "execution_count": null,
   "metadata": {
    "collapsed": true
   },
   "outputs": [],
   "source": []
  }
 ],
 "metadata": {
  "kernelspec": {
   "display_name": "Python 2 (SageMath)",
   "language": "python",
   "name": "python2"
  },
  "language_info": {
   "codemirror_mode": {
    "name": "ipython",
    "version": 2
   },
   "file_extension": ".py",
   "mimetype": "text/x-python",
   "name": "python",
   "nbconvert_exporter": "python",
   "pygments_lexer": "ipython2",
   "version": "2.7.10"
  }
 },
 "nbformat": 4,
 "nbformat_minor": 0
}
